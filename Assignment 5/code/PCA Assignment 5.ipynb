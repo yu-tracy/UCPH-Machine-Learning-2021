{
 "cells": [
  {
   "cell_type": "markdown",
   "metadata": {},
   "source": [
    "# PCA Home Assignment\n",
    "## Christian Igel, 2021"
   ]
  },
  {
   "cell_type": "code",
   "execution_count": 2,
   "metadata": {},
   "outputs": [],
   "source": [
    "import numpy as np\n",
    "from sklearn.decomposition import PCA\n",
    "from sklearn import datasets\n",
    "\n",
    "import matplotlib.pyplot as plt\n",
    "%matplotlib inline"
   ]
  },
  {
   "cell_type": "markdown",
   "metadata": {},
   "source": [
    "Load handwritten digits data:"
   ]
  },
  {
   "cell_type": "code",
   "execution_count": 3,
   "metadata": {},
   "outputs": [],
   "source": [
    "digits = datasets.load_digits()\n",
    "imshape = digits.images[0].shape  # The 2D image shape\n",
    "X = digits.images.reshape(digits.images.shape[0],-1)  # Image"
   ]
  },
  {
   "cell_type": "markdown",
   "metadata": {},
   "source": [
    "Do the PCA:"
   ]
  },
  {
   "cell_type": "code",
   "execution_count": 4,
   "metadata": {},
   "outputs": [
    {
     "data": {
      "text/plain": [
       "PCA()"
      ]
     },
     "execution_count": 4,
     "metadata": {},
     "output_type": "execute_result"
    }
   ],
   "source": [
    "pca = PCA()\n",
    "pca.fit(X)"
   ]
  },
  {
   "cell_type": "markdown",
   "metadata": {},
   "source": [
    "Find out if 10 components are enough to explain 80% of the variance:"
   ]
  },
  {
   "cell_type": "code",
   "execution_count": 5,
   "metadata": {},
   "outputs": [
    {
     "name": "stdout",
     "output_type": "stream",
     "text": [
      "10 components can explain 73.82267688459532% of the variance\n"
     ]
    }
   ],
   "source": [
    "explained_variance_per_component = pca.explained_variance_ / np.sum(pca.explained_variance_)\n",
    "quotient_10_components = np.sum(explained_variance_per_component[:10])\n",
    "print('10 components can explain {}% of the variance'.format(quotient_10_components * 100))"
   ]
  },
  {
   "cell_type": "markdown",
   "metadata": {},
   "source": [
    "Plot the eigenspectrum:"
   ]
  },
  {
   "cell_type": "code",
   "execution_count": 6,
   "metadata": {},
   "outputs": [
    {
     "data": {
      "image/png": "[encoded data removed]",
      "text/plain": [
       "<Figure size 432x288 with 1 Axes>"
      ]
     },
     "metadata": {
      "needs_background": "light"
     },
     "output_type": "display_data"
    }
   ],
   "source": [
    "components = np.arange(1, 65, 1)\n",
    "plt.plot(components, explained_variance_per_component, label=\"explained variance per component\")\n",
    "plt.yscale('log')\n",
    "plt.xlabel(\"number of eigenvector\")\n",
    "plt.ylabel(\"explained variance\")\n",
    "plt.title(\"Eigenspectrum\")\n",
    "plt.savefig('Eigenspectrum.png')\n",
    "plt.show()"
   ]
  },
  {
   "cell_type": "markdown",
   "metadata": {},
   "source": [
    "Plot \"eigendigits\":"
   ]
  },
  {
   "cell_type": "code",
   "execution_count": 7,
   "metadata": {},
   "outputs": [
    {
     "name": "stdout",
     "output_type": "stream",
     "text": [
      "(64, 64)\n"
     ]
    },
    {
     "data": {
      "text/plain": [
       "<matplotlib.image.AxesImage at 0x7fcf70c5cdc0>"
      ]
     },
     "execution_count": 7,
     "metadata": {},
     "output_type": "execute_result"
    },
    {
     "data": {
      "image/png": "[encoded data removed]",
      "text/plain": [
       "<Figure size 432x288 with 5 Axes>"
      ]
     },
     "metadata": {
      "needs_background": "light"
     },
     "output_type": "display_data"
    }
   ],
   "source": [
    "eigenvectors = pca.components_ \n",
    "print(eigenvectors.shape)\n",
    "\n",
    "pca_1 = eigenvectors[0, :]\n",
    "pca_2 = eigenvectors[1, :]\n",
    "pca_3 = eigenvectors[2, :]\n",
    "pca_4 = eigenvectors[3, :]\n",
    "pca_5 = eigenvectors[4, :]\n",
    "pca_1_2D = pca_1.reshape(imshape)\n",
    "pca_2_2D = pca_2.reshape(imshape)\n",
    "pca_3_2D = pca_3.reshape(imshape)\n",
    "pca_4_2D = pca_4.reshape(imshape)\n",
    "pca_5_2D = pca_5.reshape(imshape)\n",
    "plt.subplot(2, 3, 1)\n",
    "plt.imshow(pca_1_2D, cmap='gray')\n",
    "plt.subplot(2, 3, 2)\n",
    "plt.imshow(pca_2_2D, cmap='gray')\n",
    "plt.subplot(2, 3, 3)\n",
    "plt.imshow(pca_3_2D, cmap='gray')\n",
    "plt.subplot(2, 3, 4)\n",
    "plt.imshow(pca_4_2D, cmap='gray')\n",
    "plt.subplot(2, 3, 5)\n",
    "plt.imshow(pca_5_2D, cmap='gray')"
   ]
  }
 ],
 "metadata": {
  "kernelspec": {
   "display_name": "Python 3 (ipykernel)",
   "language": "python",
   "name": "python3"
  },
  "language_info": {
   "codemirror_mode": {
    "name": "ipython",
    "version": 3
   },
   "file_extension": ".py",
   "mimetype": "text/x-python",
   "name": "python",
   "nbconvert_exporter": "python",
   "pygments_lexer": "ipython3",
   "version": "3.9.7"
  }
 },
 "nbformat": 4,
 "nbformat_minor": 2
}
